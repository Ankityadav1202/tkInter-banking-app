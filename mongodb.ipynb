{
 "cells": [
  {
   "cell_type": "code",
   "execution_count": 1,
   "id": "0977280c-866a-4c86-831b-3f11520232f7",
   "metadata": {
    "tags": []
   },
   "outputs": [
    {
     "name": "stdout",
     "output_type": "stream",
     "text": [
      "Collecting pymongo\n",
      "  Obtaining dependency information for pymongo from https://files.pythonhosted.org/packages/6b/38/11db8be24e20b0885182aaa3839db2eb2be51f506a222538762e1b3723f5/pymongo-4.6.3-cp311-cp311-win_amd64.whl.metadata\n",
      "  Downloading pymongo-4.6.3-cp311-cp311-win_amd64.whl.metadata (22 kB)\n",
      "Collecting dnspython<3.0.0,>=1.16.0 (from pymongo)\n",
      "  Obtaining dependency information for dnspython<3.0.0,>=1.16.0 from https://files.pythonhosted.org/packages/87/a1/8c5287991ddb8d3e4662f71356d9656d91ab3a36618c3dd11b280df0d255/dnspython-2.6.1-py3-none-any.whl.metadata\n",
      "  Downloading dnspython-2.6.1-py3-none-any.whl.metadata (5.8 kB)\n",
      "Downloading pymongo-4.6.3-cp311-cp311-win_amd64.whl (472 kB)\n",
      "   ---------------------------------------- 0.0/472.9 kB ? eta -:--:--\n",
      "   ---------- ----------------------------- 122.9/472.9 kB 3.5 MB/s eta 0:00:01\n",
      "   --------------------------------- ------ 399.4/472.9 kB 4.9 MB/s eta 0:00:01\n",
      "   ---------------------------------------  471.0/472.9 kB 4.9 MB/s eta 0:00:01\n",
      "   ---------------------------------------- 472.9/472.9 kB 3.7 MB/s eta 0:00:00\n",
      "Downloading dnspython-2.6.1-py3-none-any.whl (307 kB)\n",
      "   ---------------------------------------- 0.0/307.7 kB ? eta -:--:--\n",
      "   ---------------------------------------  307.2/307.7 kB 6.3 MB/s eta 0:00:01\n",
      "   ---------------------------------------- 307.7/307.7 kB 6.3 MB/s eta 0:00:00\n",
      "Installing collected packages: dnspython, pymongo\n",
      "Successfully installed dnspython-2.6.1 pymongo-4.6.3\n",
      "Note: you may need to restart the kernel to use updated packages.\n"
     ]
    }
   ],
   "source": [
    "pip install pymongo\n"
   ]
  },
  {
   "cell_type": "markdown",
   "id": "b3307eca-328c-4a86-8cff-9b6d786f5f25",
   "metadata": {},
   "source": [
    "### Steps to connect a python program with mongodb"
   ]
  },
  {
   "cell_type": "code",
   "execution_count": 7,
   "id": "6f4095b7-d698-48ff-968f-f663b25a004e",
   "metadata": {},
   "outputs": [
    {
     "name": "stdout",
     "output_type": "stream",
     "text": [
      "{'_id': 100, 'ename': 'pintu', 'esal': 20000, 'edept': 'hr'}\n",
      "{'_id': 103, 'ename': 'ashu', 'esal': 40000, 'edept': 'hr'}\n",
      "{'_id': 104, 'ename': 'mahadev', 'esal': 75000, 'edept': 'hr'}\n"
     ]
    }
   ],
   "source": [
    "#step:1 import mongoclient class from pymongo module\n",
    "from pymongo import MongoClient\n",
    "\n",
    "#step:2 create connection by creating object of mongo client class\n",
    "conobj=MongoClient()\n",
    "\n",
    "#step:3 obtain database reference that you have to work with\n",
    "db=conobj['4pm']\n",
    "\n",
    "#step:4 obtain reference of collection from db\n",
    "col=db['emp']\n",
    "\n",
    "#step:5 execute functions to work with collections\n",
    "curobj=col.find({'edept':'hr'})\n",
    "for doc in curobj:\n",
    "    print(doc)\n",
    "\n",
    "\n",
    "#step:6 close the conobj\n",
    "conobj.close()"
   ]
  },
  {
   "cell_type": "code",
   "execution_count": 11,
   "id": "c2c49f85-3e1b-4029-a741-be4c782dbad6",
   "metadata": {
    "tags": []
   },
   "outputs": [
    {
     "name": "stdout",
     "output_type": "stream",
     "text": [
      "{'_id': 100, 'ename': 'pintu', 'esal': 20000, 'edept': 'hr'}\n",
      "{'_id': 101, 'ename': 'bhola', 'esal': 25000, 'edept': 'coding'}\n",
      "{'_id': 102, 'ename': 'ankit', 'esal': 30000, 'edept': 'coding'}\n",
      "{'_id': 103, 'ename': 'ashu', 'esal': 40000, 'edept': 'hr'}\n",
      "{'_id': 104, 'ename': 'mahadev', 'esal': 75000, 'edept': 'hr'}\n",
      "{'_id': 105, 'ename': 'krishna', 'esal': 100000, 'edept': 'coding'}\n"
     ]
    }
   ],
   "source": [
    "# how to print all data\n",
    "from pymongo import MongoClient\n",
    "\n",
    "conobj=MongoClient()\n",
    "\n",
    "db=conobj['4pm']\n",
    "\n",
    "col=db['emp']\n",
    "\n",
    "curobj=col.find({})# To print all the data together put empty curly bracket in starting\n",
    "for doc in curobj:\n",
    "    print(doc)\n",
    "\n",
    "conobj.close()"
   ]
  },
  {
   "cell_type": "code",
   "execution_count": 16,
   "id": "904ccbd0-2ccd-48b1-a816-e81c623801bd",
   "metadata": {
    "tags": []
   },
   "outputs": [
    {
     "name": "stdout",
     "output_type": "stream",
     "text": [
      "{'_id': 100, 'ename': 'pintu', 'esal': 20000, 'edept': 'hr'}\n",
      "{'_id': 103, 'ename': 'ashu', 'esal': 40000, 'edept': 'hr'}\n",
      "{'_id': 104, 'ename': 'mahadev', 'esal': 75000, 'edept': 'hr'}\n"
     ]
    }
   ],
   "source": [
    "# how to print selected data\n",
    "from pymongo import MongoClient\n",
    "\n",
    "conobj=MongoClient()\n",
    "\n",
    "db=conobj['4pm']\n",
    "\n",
    "col=db['emp']\n",
    "\n",
    "curobj=col.find({'edept':'hr'})\n",
    "for doc in curobj:\n",
    "    print(doc)\n",
    "\n",
    "conobj.close()"
   ]
  },
  {
   "cell_type": "code",
   "execution_count": 19,
   "id": "3f10313a-86a1-4ed7-a06b-64a017080467",
   "metadata": {
    "tags": []
   },
   "outputs": [],
   "source": [
    "# How to insert data in mongodb from python\n",
    "#\n",
    "from pymongo import MongoClient\n",
    "\n",
    "conobj=MongoClient()\n",
    "\n",
    "db=conobj['4pm']\n",
    "\n",
    "col=db['emp']\n",
    "\n",
    "col.insert_one({'_id':88,'ename':'priya','esal':50000,'edept':'hr'})\n",
    "\n",
    "conobj.close()\n",
    "\n"
   ]
  },
  {
   "cell_type": "code",
   "execution_count": 20,
   "id": "82b120d0-7f7a-438f-a96a-260e7182f1b7",
   "metadata": {
    "tags": []
   },
   "outputs": [
    {
     "name": "stdin",
     "output_type": "stream",
     "text": [
      "enter id= 003\n",
      "enter name  suraj\n",
      "enter sal= 24000\n",
      "enter dept= coding\n"
     ]
    },
    {
     "name": "stdout",
     "output_type": "stream",
     "text": [
      "record inserted\n"
     ]
    }
   ],
   "source": [
    "# How to insert data by user input\n",
    "from pymongo import MongoClient\n",
    "conobj=MongoClient()\n",
    "db=conobj['4pm']\n",
    "col=db['emp']\n",
    "eid=int(input('enter id='))\n",
    "name=input('enter name ')\n",
    "sal=float(input('enter sal='))\n",
    "dept=input('enter dept=')\n",
    "col.insert_one({'_id':eid,'ename':name,'esal':sal,'edept':dept})\n",
    "conobj.close()\n",
    "print('record inserted')"
   ]
  },
  {
   "cell_type": "markdown",
   "id": "8cd81f84-2b71-4bb7-925a-7c6c5a9378e1",
   "metadata": {},
   "source": [
    "\n",
    "\n"
   ]
  },
  {
   "cell_type": "markdown",
   "id": "836f4ee4-6337-4a90-812c-448cc5a69e6e",
   "metadata": {},
   "source": []
  },
  {
   "cell_type": "code",
   "execution_count": null,
   "id": "3138341d-4ab3-4a99-8624-0402fbe02b8c",
   "metadata": {},
   "outputs": [],
   "source": []
  }
 ],
 "metadata": {
  "kernelspec": {
   "display_name": "Python 3 (ipykernel)",
   "language": "python",
   "name": "python3"
  },
  "language_info": {
   "codemirror_mode": {
    "name": "ipython",
    "version": 3
   },
   "file_extension": ".py",
   "mimetype": "text/x-python",
   "name": "python",
   "nbconvert_exporter": "python",
   "pygments_lexer": "ipython3",
   "version": "3.11.5"
  }
 },
 "nbformat": 4,
 "nbformat_minor": 5
}
