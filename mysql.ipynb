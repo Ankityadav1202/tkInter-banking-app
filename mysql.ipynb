{
 "cells": [
  {
   "cell_type": "code",
   "execution_count": 1,
   "id": "40766715-d3c0-4922-ae91-015759357880",
   "metadata": {
    "tags": []
   },
   "outputs": [
    {
     "name": "stdout",
     "output_type": "stream",
     "text": [
      "Collecting pymysql\n",
      "  Obtaining dependency information for pymysql from https://files.pythonhosted.org/packages/e5/30/20467e39523d0cfc2b6227902d3687a16364307260c75e6a1cb4422b0c62/PyMySQL-1.1.0-py3-none-any.whl.metadata\n",
      "  Downloading PyMySQL-1.1.0-py3-none-any.whl.metadata (4.4 kB)\n",
      "Downloading PyMySQL-1.1.0-py3-none-any.whl (44 kB)\n",
      "   ---------------------------------------- 0.0/44.8 kB ? eta -:--:--\n",
      "   ------------------ --------------------- 20.5/44.8 kB 640.0 kB/s eta 0:00:01\n",
      "   ---------------------------------------- 44.8/44.8 kB 734.6 kB/s eta 0:00:00\n",
      "Installing collected packages: pymysql\n",
      "Successfully installed pymysql-1.1.0\n",
      "Note: you may need to restart the kernel to use updated packages.\n"
     ]
    }
   ],
   "source": [
    "pip install pymysql\n"
   ]
  },
  {
   "cell_type": "code",
   "execution_count": 2,
   "id": "b3d5b337-971c-43a9-9485-18a93016c71d",
   "metadata": {},
   "outputs": [
    {
     "name": "stdout",
     "output_type": "stream",
     "text": [
      "done\n"
     ]
    }
   ],
   "source": [
    "#import driver specific module\n",
    "import pymysql\n",
    "\n",
    "#create connection object\n",
    "conobj=pymysql.connect(user=\"root\",password=\"root\",database=\"4pm\")\n",
    "\n",
    "#create cursor object to execute queries.\n",
    "curobj=conobj.cursor()\n",
    "\n",
    "#execute query\n",
    "curobj.execute(\"insert into emp values('hr',444,'gajju',30000)\")\n",
    "curobj.execute(\"update emp set esal=esal+1000\")\n",
    "\n",
    "conobj.commit()\n",
    "\n",
    "conobj.close()\n",
    "print(\"done\")\n"
   ]
  },
  {
   "cell_type": "code",
   "execution_count": 7,
   "id": "1f11e1af-83cd-45a1-a935-aea9e9a377a3",
   "metadata": {
    "tags": []
   },
   "outputs": [
    {
     "name": "stdin",
     "output_type": "stream",
     "text": [
      "enter dept= hr\n",
      "enter eid= 600\n",
      "enter name= vijay\n",
      "enter sal= 70000\n"
     ]
    },
    {
     "name": "stdout",
     "output_type": "stream",
     "text": [
      "record inserted\n"
     ]
    }
   ],
   "source": [
    "\n",
    "import pymysql\n",
    "conobj=pymysql.connect(user=\"root\",password=\"root\",database=\"4pm\")\n",
    "curobj=conobj.cursor()\n",
    "d=input(\"enter dept=\")\n",
    "eid=int(input(\"enter eid=\"))\n",
    "ename=input(\"enter name=\")\n",
    "esal=float(input(\"enter sal=\"))\n",
    "curobj.execute(\"insert into emp values(%s,%s,%s,%s)\",(d,eid,ename,esal))\n",
    "conobj.commit()\n",
    "conobj.close()\n",
    "print(\"record inserted\")\n"
   ]
  },
  {
   "cell_type": "code",
   "execution_count": 1,
   "id": "035af5b0-b179-4b1a-ae6e-259bc448cd19",
   "metadata": {
    "tags": []
   },
   "outputs": [],
   "source": [
    "from tkinter import *\n",
    "from tkinter import messagebox\n",
    "def insert():\n",
    "    import pymysql\n",
    "    conobj=pymysql.connect(user=\"root\",password=\"root\",database=\"4pm\")\n",
    "    curobj=conobj.cursor()\n",
    "    d=e1.get()\n",
    "    eid=int(e2.get())\n",
    "    ename=e3.get()\n",
    "    esal=float(e4.get())\n",
    "    curobj.execute(\"insert into emp values(%s,%s,%s,%s)\",(d,eid,ename,esal))\n",
    "    conobj.commit()\n",
    "    e1.delete(0,'end')\n",
    "    e2.delete(0,'end')\n",
    "    e3.delete(0,'end')\n",
    "    e4.delete(0,'end')\n",
    "    e1.focus()\n",
    "    conobj.close()\n",
    "    print(\"record inserted\")  \n",
    "    messagebox.showinfo('Result,Record inserted')\n",
    "\n",
    "\n",
    "win=Tk()\n",
    "win.state(\"zoomed\")\n",
    "win.configure(bg='yellow')\n",
    "l1=Label(win,text='Edept',font=('',15,'bold'),bg='yellow')\n",
    "e1=Entry(win,font=('',20,'bold'),bd=5)\n",
    "l1.place(x=200,y=100)\n",
    "e1.place(x=300,y=100)\n",
    "\n",
    "l2=Label(win,text='Eid',font=('',15,'bold'),bg='yellow')\n",
    "e2=Entry(win,font=('',20,'bold'),bd=5)\n",
    "l2.place(x=200,y=170)\n",
    "e2.place(x=300,y=170)\n",
    "\n",
    "l3=Label(win,text='Ename',font=('',15,'bold'),bg='yellow')\n",
    "e3=Entry(win,font=('',20,'bold'),bd=5)\n",
    "l3.place(x=200,y=240)\n",
    "e3.place(x=300,y=240)\n",
    "\n",
    "l4=Label(win,text='Esal',font=('',15,'bold'),bg='yellow')\n",
    "e4=Entry(win,font=('',20,'bold'),bd=5)\n",
    "l4.place(x=200,y=310)\n",
    "e4.place(x=300,y=310)\n",
    "\n",
    "b1=Button(win,text='submit',font=('',10,'bold'),bd=3,command=insert)\n",
    "b1.place(x=300,y=360)\n",
    "\n",
    "\n",
    "win.mainloop()"
   ]
  },
  {
   "cell_type": "code",
   "execution_count": 29,
   "id": "f012795c-b5a2-4db5-86d4-f6e3c91d36e8",
   "metadata": {},
   "outputs": [
    {
     "name": "stdout",
     "output_type": "stream",
     "text": [
      "('hr', 102, 'monu', 12000.0)\n",
      "('coding', 103, 'chintu', 22000.0)\n",
      "('hr', 107, 'pintu', 23000.0)\n",
      "('coding', 201, 'golu', 16000.0)\n",
      "('hr', 109, 'bhola', 7000.0)\n",
      "('hr', 501, 'jaiswal', 11000.0)\n",
      "('accounts', 301, 'bablu', 46000.0)\n",
      "('accounts', 302, 'sumit', 51000.0)\n",
      "('accounts', 303, 'ashu', 46000.0)\n",
      "('coding', 300, 'guddu', 11000.0)\n",
      "('hr', 444, 'gajju', 31000.0)\n",
      "('hr', 600, 'vijay', 70000.0)\n",
      "('accounts', 299, 'sarvu', 50000.0)\n",
      "('hr', 199, 'bholu', 34000.0)\n",
      "('dev', 123, 'sumit', 5.0)\n"
     ]
    }
   ],
   "source": [
    "import pymysql\n",
    "conobj=pymysql.connect(user='root',password='root',database='4pm')\n",
    "curobj=conobj.cursor()\n",
    "curobj.execute(\"select * from emp\")\n",
    "#tup=curobj.fetchone()\n",
    "#tup1=curobj.fetchmany(5)\n",
    "#tup2=curobj.fetchall()\n",
    "for i in curobj:\n",
    "    print(i)\n",
    "#print(tup)\n",
    "#print(tup1)\n",
    "#print(tup2)\n",
    "conobj.close()"
   ]
  },
  {
   "cell_type": "code",
   "execution_count": 32,
   "id": "ebeedcdd-3455-4e93-939f-40d897ddb565",
   "metadata": {
    "tags": []
   },
   "outputs": [
    {
     "name": "stdin",
     "output_type": "stream",
     "text": [
      "enter id= 444\n"
     ]
    },
    {
     "name": "stdout",
     "output_type": "stream",
     "text": [
      "('hr', 444, 'gajju', 31000.0)\n"
     ]
    }
   ],
   "source": [
    "import pymysql\n",
    "conobj=pymysql.connect(user='root',password='root',database='4pm')\n",
    "curobj=conobj.cursor()\n",
    "i=input(\"enter id=\")\n",
    "curobj.execute(\"select * from emp where eid=%s\",(i,))\n",
    "\n",
    "for tup in curobj:\n",
    "    print(tup)\n",
    "\n",
    "conobj.close()"
   ]
  },
  {
   "cell_type": "code",
   "execution_count": null,
   "id": "899fb312-1ace-42bf-8bc2-371f1905a989",
   "metadata": {},
   "outputs": [],
   "source": []
  }
 ],
 "metadata": {
  "kernelspec": {
   "display_name": "Python 3 (ipykernel)",
   "language": "python",
   "name": "python3"
  },
  "language_info": {
   "codemirror_mode": {
    "name": "ipython",
    "version": 3
   },
   "file_extension": ".py",
   "mimetype": "text/x-python",
   "name": "python",
   "nbconvert_exporter": "python",
   "pygments_lexer": "ipython3",
   "version": "3.11.5"
  }
 },
 "nbformat": 4,
 "nbformat_minor": 5
}
