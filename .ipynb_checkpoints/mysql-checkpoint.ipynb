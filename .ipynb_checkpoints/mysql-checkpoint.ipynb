{
 "cells": [
  {
   "cell_type": "code",
   "execution_count": 1,
   "id": "40766715-d3c0-4922-ae91-015759357880",
   "metadata": {
    "tags": []
   },
   "outputs": [
    {
     "name": "stdout",
     "output_type": "stream",
     "text": [
      "Collecting pymysql\n",
      "  Obtaining dependency information for pymysql from https://files.pythonhosted.org/packages/e5/30/20467e39523d0cfc2b6227902d3687a16364307260c75e6a1cb4422b0c62/PyMySQL-1.1.0-py3-none-any.whl.metadata\n",
      "  Downloading PyMySQL-1.1.0-py3-none-any.whl.metadata (4.4 kB)\n",
      "Downloading PyMySQL-1.1.0-py3-none-any.whl (44 kB)\n",
      "   ---------------------------------------- 0.0/44.8 kB ? eta -:--:--\n",
      "   ------------------ --------------------- 20.5/44.8 kB 640.0 kB/s eta 0:00:01\n",
      "   ---------------------------------------- 44.8/44.8 kB 734.6 kB/s eta 0:00:00\n",
      "Installing collected packages: pymysql\n",
      "Successfully installed pymysql-1.1.0\n",
      "Note: you may need to restart the kernel to use updated packages.\n"
     ]
    }
   ],
   "source": [
    "pip install pymysql\n"
   ]
  },
  {
   "cell_type": "code",
   "execution_count": 2,
   "id": "b3d5b337-971c-43a9-9485-18a93016c71d",
   "metadata": {},
   "outputs": [
    {
     "name": "stdout",
     "output_type": "stream",
     "text": [
      "done\n"
     ]
    }
   ],
   "source": [
    "#import driver specific module\n",
    "import pymysql\n",
    "\n",
    "#create connection object\n",
    "conobj=pymysql.connect(user=\"root\",password=\"root\",database=\"4pm\")\n",
    "\n",
    "#create cursor object to execute queries.\n",
    "curobj=conobj.cursor()\n",
    "\n",
    "#execute query\n",
    "curobj.execute(\"insert into emp values('hr',444,'gajju',30000)\")\n",
    "curobj.execute(\"update emp set esal=esal+1000\")\n",
    "\n",
    "conobj.commit()\n",
    "\n",
    "conobj.close()\n",
    "print(\"done\")\n"
   ]
  },
  {
   "cell_type": "code",
   "execution_count": 7,
   "id": "1f11e1af-83cd-45a1-a935-aea9e9a377a3",
   "metadata": {
    "tags": []
   },
   "outputs": [
    {
     "name": "stdin",
     "output_type": "stream",
     "text": [
      "enter dept= hr\n",
      "enter eid= 600\n",
      "enter name= vijay\n",
      "enter sal= 70000\n"
     ]
    },
    {
     "name": "stdout",
     "output_type": "stream",
     "text": [
      "record inserted\n"
     ]
    }
   ],
   "source": [
    "\n",
    "import pymysql\n",
    "conobj=pymysql.connect(user=\"root\",password=\"root\",database=\"4pm\")\n",
    "curobj=conobj.cursor()\n",
    "d=input(\"enter dept=\")\n",
    "eid=int(input(\"enter eid=\"))\n",
    "ename=input(\"enter name=\")\n",
    "esal=float(input(\"enter sal=\"))\n",
    "curobj.execute(\"insert into emp values(%s,%s,%s,%s)\",(d,eid,ename,esal))\n",
    "conobj.commit()\n",
    "conobj.close()\n",
    "print(\"record inserted\")\n"
   ]
  },
  {
   "cell_type": "code",
   "execution_count": 9,
   "id": "035af5b0-b179-4b1a-ae6e-259bc448cd19",
   "metadata": {
    "tags": []
   },
   "outputs": [],
   "source": [
    "from tkinter import *\n",
    "win=Tk()\n",
    "win.state(\"zoomed\")\n",
    "win.configure(bg='yellow')\n",
    "l1=Label(win,text='Eid',font=('',25,'bold'),bg='yellow')\n",
    "e1=Entry(win,font=('',25,'bold'),bd=5)\n",
    "l1.place(x=200,y=100)\n",
    "e1.place(x=300,y=100)\n",
    "l2=Label(win,text='edept',font=('',25,'bold'),bg='yellow')\n",
    "e2=Entry(win,font=('',25,'bold'),bd=5)\n",
    "l3=Label\n",
    "win.mainloop()"
   ]
  },
  {
   "cell_type": "code",
   "execution_count": null,
   "id": "f012795c-b5a2-4db5-86d4-f6e3c91d36e8",
   "metadata": {},
   "outputs": [],
   "source": []
  }
 ],
 "metadata": {
  "kernelspec": {
   "display_name": "Python 3 (ipykernel)",
   "language": "python",
   "name": "python3"
  },
  "language_info": {
   "codemirror_mode": {
    "name": "ipython",
    "version": 3
   },
   "file_extension": ".py",
   "mimetype": "text/x-python",
   "name": "python",
   "nbconvert_exporter": "python",
   "pygments_lexer": "ipython3",
   "version": "3.11.5"
  }
 },
 "nbformat": 4,
 "nbformat_minor": 5
}
