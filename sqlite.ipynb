{
 "cells": [
  {
   "cell_type": "markdown",
   "id": "967a8ad2-4881-4ea9-bfb7-3f2b3091a744",
   "metadata": {},
   "source": [
    "# SQlite\n",
    "- It is a file based database that reqire no configuration \n",
    "- It was intially developed for mobile devices but now a days can also be used in desktop device's\n",
    "- It support's most of the concept's of sql standard but does not support networking\n",
    "- Python has builtin support for sqlite driver "
   ]
  },
  {
   "cell_type": "code",
   "execution_count": 1,
   "id": "9cd40d07-8eda-4c66-ae56-e0a07da3ff22",
   "metadata": {
    "tags": []
   },
   "outputs": [
    {
     "name": "stdout",
     "output_type": "stream",
     "text": [
      "table created\n"
     ]
    }
   ],
   "source": [
    "import sqlite3 #3=version\n",
    "conobj=sqlite3.connect(database=\"4pm.sqlite\")\n",
    "curobj=conobj.cursor()\n",
    "curobj.execute(\"create table emp(eid int primary key,ename text,esal float)\")# sqlite doesn't have varchar it have text\n",
    "conobj.close()\n",
    "print('table created')\n"
   ]
  },
  {
   "cell_type": "code",
   "execution_count": 7,
   "id": "bdfa8429-55ac-4b3d-9f4d-89a712160f38",
   "metadata": {
    "tags": []
   },
   "outputs": [
    {
     "name": "stdin",
     "output_type": "stream",
     "text": [
      "enter id= 103\n",
      "enter name pankaj\n",
      "enter sal 22222\n"
     ]
    },
    {
     "name": "stdout",
     "output_type": "stream",
     "text": [
      "record inserted\n"
     ]
    }
   ],
   "source": [
    "import sqlite3\n",
    "conobj=sqlite3.connect(database=\"4pm.sqlite\")\n",
    "curobj=conobj.cursor()\n",
    "eid=int(input(\"enter id=\"))\n",
    "ename=input(\"enter name\")\n",
    "esal=float(input(\"enter sal\"))\n",
    "curobj.execute(\"insert into emp values(?,?,?)\",(eid,ename,esal))\n",
    "conobj.commit()\n",
    "conobj.close()\n",
    "print(\"record inserted\")"
   ]
  },
  {
   "cell_type": "code",
   "execution_count": 8,
   "id": "7dca0350-e5f2-4792-b328-e0b9a1ffbe34",
   "metadata": {
    "tags": []
   },
   "outputs": [
    {
     "name": "stdout",
     "output_type": "stream",
     "text": [
      "(101, 'sonu', 25000.0)\n",
      "(103, 'pankaj', 22222.0)\n"
     ]
    }
   ],
   "source": [
    "import sqlite3\n",
    "conobj=sqlite3.connect(database=\"4pm.sqlite\")\n",
    "curobj=conobj.cursor()\n",
    "curobj.execute(\"select * from emp\")\n",
    "for tup in curobj:\n",
    "    print(tup)\n",
    "conobj.close()    \n",
    "    \n",
    "    "
   ]
  },
  {
   "cell_type": "code",
   "execution_count": null,
   "id": "492e1a4c-edc1-442a-8cc6-a50f7e3ffbe5",
   "metadata": {},
   "outputs": [],
   "source": []
  }
 ],
 "metadata": {
  "kernelspec": {
   "display_name": "Python 3 (ipykernel)",
   "language": "python",
   "name": "python3"
  },
  "language_info": {
   "codemirror_mode": {
    "name": "ipython",
    "version": 3
   },
   "file_extension": ".py",
   "mimetype": "text/x-python",
   "name": "python",
   "nbconvert_exporter": "python",
   "pygments_lexer": "ipython3",
   "version": "3.11.5"
  }
 },
 "nbformat": 4,
 "nbformat_minor": 5
}
